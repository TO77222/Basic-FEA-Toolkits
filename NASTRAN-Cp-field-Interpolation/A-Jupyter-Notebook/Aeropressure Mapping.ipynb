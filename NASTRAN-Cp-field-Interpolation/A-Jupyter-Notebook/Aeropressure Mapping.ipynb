{
 "cells": [
  {
   "cell_type": "markdown",
   "metadata": {
    "cell_style": "center",
    "slideshow": {
     "slide_type": "slide"
    }
   },
   "source": [
    "# Aeropressure Mapping\n",
    "---\n",
    "![](img/banner.png)"
   ]
  },
  {
   "cell_type": "code",
   "execution_count": 1,
   "metadata": {
    "cell_style": "center",
    "slideshow": {
     "slide_type": "subslide"
    }
   },
   "outputs": [],
   "source": [
    "# N A S T R A N- - - - - - - - - - - - - - - - - - - - - - - - - - - - - - - - - - - - - - - - \n",
    "import pyNastran\n",
    "from pyNastran.op2.op2 import OP2\n",
    "from pyNastran.bdf.bdf import BDF, read_bdf\n",
    "from pyNastran.utils import object_attributes, object_methods"
   ]
  },
  {
   "cell_type": "code",
   "execution_count": 2,
   "metadata": {
    "slideshow": {
     "slide_type": "skip"
    }
   },
   "outputs": [],
   "source": [
    "# Classical - - - - - - - - - - - - - - - - - - - - - - - - - - - - - - - - - - - - - - - - -\n",
    "import pandas as pd\n",
    "import numpy as np\n",
    "import os\n",
    "import datetime\n",
    "import glob\n",
    "import re\n",
    "import matplotlib.pyplot as plt\n",
    "import matplotlib.lines as mlines\n",
    "import scipy\n",
    "from scipy.interpolate import griddata as gd"
   ]
  },
  {
   "cell_type": "code",
   "execution_count": 3,
   "metadata": {
    "slideshow": {
     "slide_type": "subslide"
    }
   },
   "outputs": [
    {
     "name": "stdout",
     "output_type": "stream",
     "text": [
      "============================================================\n",
      "pandas          pyNastran       numpy           scipy           \n",
      "------------    ------------    ------------    ------------\n",
      "0.25.1          1.2.0           1.16.5          1.3.1           \n",
      "============================================================\n"
     ]
    }
   ],
   "source": [
    "print('='*60)\n",
    "print('%-16s%-16s%-16s%-16s' % ('pandas','pyNastran','numpy', 'scipy'))\n",
    "print('-'*12,'  ','-'*12,'  ','-'*12,'  ','-'*12)\n",
    "print('%-16s%-16s%-16s%-16s' % (pd.__version__,pyNastran.__version__,np.__version__,scipy.__version__))\n",
    "print('='*60)"
   ]
  },
  {
   "cell_type": "markdown",
   "metadata": {
    "slideshow": {
     "slide_type": "slide"
    }
   },
   "source": [
    "## 1. $\\mathrm{NASTRAN}$ Structural Mesh"
   ]
  },
  {
   "cell_type": "code",
   "execution_count": 4,
   "metadata": {
    "slideshow": {
     "slide_type": "subslide"
    }
   },
   "outputs": [],
   "source": [
    "# User's barecode\n",
    "to='to77222'\n",
    "# Working directory\n",
    "wd='C:\\\\Users\\\\'+str(to)+'\\\\Desktop\\\\\\Basic-FEA-Toolkits\\\\NASTRAN-Cp-field-Interpolation\\\\A-Jupyter-Notebook\\\\'"
   ]
  },
  {
   "cell_type": "code",
   "execution_count": 5,
   "metadata": {
    "slideshow": {
     "slide_type": "subslide"
    }
   },
   "outputs": [],
   "source": [
    "# Minimal Working Example\n",
    "# Creation of a BDF object\n",
    "bdf=BDF()"
   ]
  },
  {
   "cell_type": "code",
   "execution_count": 6,
   "metadata": {
    "slideshow": {
     "slide_type": "subslide"
    }
   },
   "outputs": [
    {
     "data": {
      "text/html": [
       "<text style=color:blue>DEBUG:   bdf.py:1107                  ---starting BDF.read_bdf of C:\\Users\\to77222\\Desktop\\\\Basic-FEA-Toolkits\\NASTRAN-Cp-field-Interpolation\\A-Jupyter-Notebook\\mwe\\plate.dat---\n",
       "</text>"
      ],
      "text/plain": [
       "<IPython.core.display.HTML object>"
      ]
     },
     "metadata": {},
     "output_type": "display_data"
    },
    {
     "data": {
      "text/html": [
       "<text style=color:blue>DEBUG:   pybdf.py:542                 opening 'C:\\\\Users\\\\to77222\\\\Desktop\\\\Basic-FEA-Toolkits\\\\NASTRAN-Cp-field-Interpolation\\\\A-Jupyter-Notebook\\\\mwe\\\\plate.dat'\n",
       "</text>"
      ],
      "text/plain": [
       "<IPython.core.display.HTML object>"
      ]
     },
     "metadata": {},
     "output_type": "display_data"
    },
    {
     "data": {
      "text/html": [
       "<text style=color:blue>DEBUG:   bdf.py:1419                  exiting due to ENDDATA found with 1 lines left\n",
       "</text>"
      ],
      "text/plain": [
       "<IPython.core.display.HTML object>"
      ]
     },
     "metadata": {},
     "output_type": "display_data"
    },
    {
     "data": {
      "text/html": [
       "<text style=color:blue>DEBUG:   cross_reference.py:159       Cross Referencing...\n",
       "</text>"
      ],
      "text/plain": [
       "<IPython.core.display.HTML object>"
      ]
     },
     "metadata": {},
     "output_type": "display_data"
    },
    {
     "data": {
      "text/html": [
       "<text style=color:blue>DEBUG:   bdf.py:1155                  ---finished BDF.read_bdf of C:\\Users\\to77222\\Desktop\\\\Basic-FEA-Toolkits\\NASTRAN-Cp-field-Interpolation\\A-Jupyter-Notebook\\mwe\\plate.dat---\n",
       "</text>"
      ],
      "text/plain": [
       "<IPython.core.display.HTML object>"
      ]
     },
     "metadata": {},
     "output_type": "display_data"
    }
   ],
   "source": [
    "bdf.read_bdf(wd+'mwe\\\\'+'plate.dat', xref=True)"
   ]
  },
  {
   "cell_type": "code",
   "execution_count": 7,
   "metadata": {
    "slideshow": {
     "slide_type": "subslide"
    }
   },
   "outputs": [
    {
     "name": "stdout",
     "output_type": "stream",
     "text": [
      "[0. 0. 0.]\n",
      "[1. 0. 0.]\n",
      "[1. 1. 0.]\n",
      "[0. 1. 0.]\n"
     ]
    }
   ],
   "source": [
    "# Example - Loop over the GRID and Print the Coordinates...\n",
    "for i,n in enumerate(bdf.nodes.keys()):\n",
    "    print(bdf.nodes[n].xyz)"
   ]
  },
  {
   "cell_type": "code",
   "execution_count": 8,
   "metadata": {
    "slideshow": {
     "slide_type": "subslide"
    }
   },
   "outputs": [],
   "source": [
    "# Example - Compute the Centre of Gravity of the elements...\n",
    "CG={}\n",
    "for i,e in enumerate(bdf.elements.keys()):\n",
    "    CG[e]=(bdf.nodes[bdf.elements[e].nodes[0]].xyz+bdf.nodes[bdf.elements[e].nodes[2]].xyz)/2."
   ]
  },
  {
   "cell_type": "code",
   "execution_count": 9,
   "metadata": {
    "slideshow": {
     "slide_type": "subslide"
    }
   },
   "outputs": [
    {
     "data": {
      "text/plain": [
       "{1: array([0.5, 0.5, 0. ])}"
      ]
     },
     "execution_count": 9,
     "metadata": {},
     "output_type": "execute_result"
    }
   ],
   "source": [
    "CG"
   ]
  },
  {
   "cell_type": "markdown",
   "metadata": {
    "slideshow": {
     "slide_type": "slide"
    }
   },
   "source": [
    "## 2. Aeropressure $C_p$ field "
   ]
  },
  {
   "cell_type": "code",
   "execution_count": 10,
   "metadata": {
    "slideshow": {
     "slide_type": "subslide"
    }
   },
   "outputs": [],
   "source": [
    "# Example - Upload pressure into a dataframe\n",
    "aero=pd.read_csv(wd+'mwe\\\\'+'9001.csv', names=['Topo','x','y','z','Cp'], header=None)"
   ]
  },
  {
   "cell_type": "code",
   "execution_count": 11,
   "metadata": {
    "slideshow": {
     "slide_type": "subslide"
    }
   },
   "outputs": [
    {
     "data": {
      "text/html": [
       "<div>\n",
       "<style scoped>\n",
       "    .dataframe tbody tr th:only-of-type {\n",
       "        vertical-align: middle;\n",
       "    }\n",
       "\n",
       "    .dataframe tbody tr th {\n",
       "        vertical-align: top;\n",
       "    }\n",
       "\n",
       "    .dataframe thead th {\n",
       "        text-align: right;\n",
       "    }\n",
       "</style>\n",
       "<table border=\"1\" class=\"dataframe\">\n",
       "  <thead>\n",
       "    <tr style=\"text-align: right;\">\n",
       "      <th></th>\n",
       "      <th>Topo</th>\n",
       "      <th>x</th>\n",
       "      <th>y</th>\n",
       "      <th>z</th>\n",
       "      <th>Cp</th>\n",
       "    </tr>\n",
       "  </thead>\n",
       "  <tbody>\n",
       "    <tr>\n",
       "      <td>0</td>\n",
       "      <td>4</td>\n",
       "      <td>0.5</td>\n",
       "      <td>0.5</td>\n",
       "      <td>0.0</td>\n",
       "      <td>0.707107</td>\n",
       "    </tr>\n",
       "    <tr>\n",
       "      <td>1</td>\n",
       "      <td>4</td>\n",
       "      <td>1.5</td>\n",
       "      <td>0.5</td>\n",
       "      <td>0.0</td>\n",
       "      <td>0.707107</td>\n",
       "    </tr>\n",
       "    <tr>\n",
       "      <td>2</td>\n",
       "      <td>4</td>\n",
       "      <td>1.5</td>\n",
       "      <td>1.5</td>\n",
       "      <td>0.0</td>\n",
       "      <td>0.707107</td>\n",
       "    </tr>\n",
       "    <tr>\n",
       "      <td>3</td>\n",
       "      <td>4</td>\n",
       "      <td>0.5</td>\n",
       "      <td>1.5</td>\n",
       "      <td>0.0</td>\n",
       "      <td>0.707107</td>\n",
       "    </tr>\n",
       "  </tbody>\n",
       "</table>\n",
       "</div>"
      ],
      "text/plain": [
       "   Topo    x    y    z        Cp\n",
       "0     4  0.5  0.5  0.0  0.707107\n",
       "1     4  1.5  0.5  0.0  0.707107\n",
       "2     4  1.5  1.5  0.0  0.707107\n",
       "3     4  0.5  1.5  0.0  0.707107"
      ]
     },
     "execution_count": 11,
     "metadata": {},
     "output_type": "execute_result"
    }
   ],
   "source": [
    "aero"
   ]
  },
  {
   "cell_type": "markdown",
   "metadata": {
    "slideshow": {
     "slide_type": "slide"
    }
   },
   "source": [
    "## 3. Interpolation of Aeropressure $C_p$ field"
   ]
  },
  {
   "cell_type": "code",
   "execution_count": 12,
   "metadata": {
    "slideshow": {
     "slide_type": "subslide"
    }
   },
   "outputs": [],
   "source": [
    "# Example - Assess pressure @CG\n",
    "PLOAD={}\n",
    "for k,c in enumerate(CG):\n",
    "    PLOAD[c]=gd(aero[['x', 'y', 'z']].values, aero['Cp'].values, CG[c], method='nearest')"
   ]
  },
  {
   "cell_type": "markdown",
   "metadata": {
    "slideshow": {
     "slide_type": "slide"
    }
   },
   "source": [
    "## 4. $\\mathrm{NASTRAN}$ $\\mathrm{PLOAD4}$ Output"
   ]
  },
  {
   "cell_type": "code",
   "execution_count": 13,
   "metadata": {
    "slideshow": {
     "slide_type": "subslide"
    }
   },
   "outputs": [],
   "source": [
    "pid='9001'"
   ]
  },
  {
   "cell_type": "code",
   "execution_count": 14,
   "metadata": {
    "slideshow": {
     "slide_type": "subslide"
    }
   },
   "outputs": [],
   "source": [
    "# Example - Create PLOAD4 Cards\n",
    "for k,c in enumerate(CG):\n",
    "    bdf.add_pload4(pid,c,PLOAD[c]*np.ones(4))"
   ]
  },
  {
   "cell_type": "code",
   "execution_count": 15,
   "metadata": {
    "slideshow": {
     "slide_type": "subslide"
    }
   },
   "outputs": [
    {
     "data": {
      "text/html": [
       "<text style=color:blue>DEBUG:   write_mesh.py:157            ---starting BDF.write_bdf of C:\\Users\\to77222\\Desktop\\\\Basic-FEA-Toolkits\\NASTRAN-Cp-field-Interpolation\\A-Jupyter-Notebook\\mwe\\plate_with_pload4.dat---\n",
       "</text>"
      ],
      "text/plain": [
       "<IPython.core.display.HTML object>"
      ]
     },
     "metadata": {},
     "output_type": "display_data"
    }
   ],
   "source": [
    "bdf.write_bdf(wd+'mwe\\\\'+'plate_with_pload4.dat', interspersed=True, size=8, is_double=False)"
   ]
  },
  {
   "cell_type": "markdown",
   "metadata": {
    "slideshow": {
     "slide_type": "slide"
    }
   },
   "source": [
    "## The end."
   ]
  }
 ],
 "metadata": {
  "celltoolbar": "Diaporama",
  "kernelspec": {
   "display_name": "Python 3",
   "language": "python",
   "name": "python3"
  },
  "language_info": {
   "codemirror_mode": {
    "name": "ipython",
    "version": 3
   },
   "file_extension": ".py",
   "mimetype": "text/x-python",
   "name": "python",
   "nbconvert_exporter": "python",
   "pygments_lexer": "ipython3",
   "version": "3.7.4"
  }
 },
 "nbformat": 4,
 "nbformat_minor": 2
}
